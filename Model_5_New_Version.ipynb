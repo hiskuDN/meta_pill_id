{
  "nbformat": 4,
  "nbformat_minor": 0,
  "metadata": {
    "colab": {
      "name": "Model 5 New Version.ipynb",
      "version": "0.3.2",
      "provenance": []
    },
    "kernelspec": {
      "name": "python3",
      "display_name": "Python 3"
    },
    "accelerator": "GPU"
  },
  "cells": [
    {
      "cell_type": "code",
      "metadata": {
        "id": "xOI82soC8PxJ",
        "colab_type": "code",
        "outputId": "6a87761c-54be-40ea-ecf1-e6b003600c0f",
        "colab": {
          "base_uri": "https://localhost:8080/",
          "height": 399
        }
      },
      "source": [
        "!pip install tf-nightly-gpu-2.0-preview\n",
        "import tensorflow as tf\n",
        "device_name = tf.test.gpu_device_name()\n",
        "if device_name != '/device:GPU:0':\n",
        "  raise SystemError('GPU device not found')\n",
        "print('Found GPU at: {}'.format(device_name))\n",
        "import os\n",
        "import matplotlib.pyplot as plt\n",
        "import cv2\n",
        "import numpy as np\n",
        "import random\n",
        "import pickle\n",
        "from google.colab.patches import cv2_imshow\n",
        "from keras.preprocessing.image import ImageDataGenerator\n"
      ],
      "execution_count": 41,
      "outputs": [
        {
          "output_type": "stream",
          "text": [
            "Requirement already satisfied: tf-nightly-gpu-2.0-preview in /usr/local/lib/python3.6/dist-packages (2.0.0.dev20190605)\n",
            "Requirement already satisfied: tensorflow-estimator-2.0-preview in /usr/local/lib/python3.6/dist-packages (from tf-nightly-gpu-2.0-preview) (1.14.0.dev2019060500)\n",
            "Requirement already satisfied: protobuf>=3.6.1 in /usr/local/lib/python3.6/dist-packages (from tf-nightly-gpu-2.0-preview) (3.7.1)\n",
            "Requirement already satisfied: gast>=0.2.0 in /usr/local/lib/python3.6/dist-packages (from tf-nightly-gpu-2.0-preview) (0.2.2)\n",
            "Requirement already satisfied: keras-preprocessing>=1.0.5 in /usr/local/lib/python3.6/dist-packages (from tf-nightly-gpu-2.0-preview) (1.0.9)\n",
            "Requirement already satisfied: numpy<2.0,>=1.14.5 in /usr/local/lib/python3.6/dist-packages (from tf-nightly-gpu-2.0-preview) (1.16.4)\n",
            "Requirement already satisfied: six>=1.10.0 in /usr/local/lib/python3.6/dist-packages (from tf-nightly-gpu-2.0-preview) (1.12.0)\n",
            "Requirement already satisfied: absl-py>=0.7.0 in /usr/local/lib/python3.6/dist-packages (from tf-nightly-gpu-2.0-preview) (0.7.1)\n",
            "Requirement already satisfied: wrapt>=1.11.1 in /usr/local/lib/python3.6/dist-packages (from tf-nightly-gpu-2.0-preview) (1.11.1)\n",
            "Requirement already satisfied: tb-nightly<1.15.0a0,>=1.14.0a0 in /usr/local/lib/python3.6/dist-packages (from tf-nightly-gpu-2.0-preview) (1.14.0a20190605)\n",
            "Requirement already satisfied: wheel>=0.26 in /usr/local/lib/python3.6/dist-packages (from tf-nightly-gpu-2.0-preview) (0.33.4)\n",
            "Requirement already satisfied: grpcio>=1.8.6 in /usr/local/lib/python3.6/dist-packages (from tf-nightly-gpu-2.0-preview) (1.15.0)\n",
            "Requirement already satisfied: astor>=0.6.0 in /usr/local/lib/python3.6/dist-packages (from tf-nightly-gpu-2.0-preview) (0.8.0)\n",
            "Requirement already satisfied: termcolor>=1.1.0 in /usr/local/lib/python3.6/dist-packages (from tf-nightly-gpu-2.0-preview) (1.1.0)\n",
            "Requirement already satisfied: keras-applications>=1.0.6 in /usr/local/lib/python3.6/dist-packages (from tf-nightly-gpu-2.0-preview) (1.0.7)\n",
            "Requirement already satisfied: google-pasta>=0.1.6 in /usr/local/lib/python3.6/dist-packages (from tf-nightly-gpu-2.0-preview) (0.1.7)\n",
            "Requirement already satisfied: setuptools in /usr/local/lib/python3.6/dist-packages (from protobuf>=3.6.1->tf-nightly-gpu-2.0-preview) (41.0.1)\n",
            "Requirement already satisfied: werkzeug>=0.11.15 in /usr/local/lib/python3.6/dist-packages (from tb-nightly<1.15.0a0,>=1.14.0a0->tf-nightly-gpu-2.0-preview) (0.15.4)\n",
            "Requirement already satisfied: markdown>=2.6.8 in /usr/local/lib/python3.6/dist-packages (from tb-nightly<1.15.0a0,>=1.14.0a0->tf-nightly-gpu-2.0-preview) (3.1.1)\n",
            "Requirement already satisfied: h5py in /usr/local/lib/python3.6/dist-packages (from keras-applications>=1.0.6->tf-nightly-gpu-2.0-preview) (2.8.0)\n",
            "Found GPU at: /device:GPU:0\n"
          ],
          "name": "stdout"
        },
        {
          "output_type": "stream",
          "text": [
            "Using TensorFlow backend.\n"
          ],
          "name": "stderr"
        }
      ]
    },
    {
      "cell_type": "code",
      "metadata": {
        "id": "cqy1RBAR9VXy",
        "colab_type": "code",
        "colab": {}
      },
      "source": [
        "#the follow are steps to load data from Google Drive\n",
        "from google.colab import drive"
      ],
      "execution_count": 0,
      "outputs": []
    },
    {
      "cell_type": "code",
      "metadata": {
        "id": "a7uzoKzp9i86",
        "colab_type": "code",
        "outputId": "09182868-898c-4fbc-d359-43c0dbc91525",
        "colab": {
          "base_uri": "https://localhost:8080/",
          "height": 34
        }
      },
      "source": [
        "drive.mount('/content/gdrive')"
      ],
      "execution_count": 0,
      "outputs": [
        {
          "output_type": "stream",
          "text": [
            "Drive already mounted at /content/gdrive; to attempt to forcibly remount, call drive.mount(\"/content/gdrive\", force_remount=True).\n"
          ],
          "name": "stdout"
        }
      ]
    },
    {
      "cell_type": "code",
      "metadata": {
        "id": "hkTZHq_vCN6L",
        "colab_type": "code",
        "outputId": "de37c9b7-e5e2-4227-d86f-251e97202e1c",
        "colab": {
          "base_uri": "https://localhost:8080/",
          "height": 34
        }
      },
      "source": [
        "!ls './gdrive/My Drive/Career Work/SERIUS/Pill Images V2' #we can use ! to run terminal commands"
      ],
      "execution_count": 0,
      "outputs": [
        {
          "output_type": "stream",
          "text": [
            "'Test Set'  'Train Set'\n"
          ],
          "name": "stdout"
        }
      ]
    },
    {
      "cell_type": "code",
      "metadata": {
        "id": "lCmC5brA-hJO",
        "colab_type": "code",
        "colab": {}
      },
      "source": [
        "DATA_PATH_TRAIN='./gdrive/My Drive/Career Work/SERIUS/Pill Images V2/Train Set'\n",
        "DATA_PATH_TEST='./gdrive/My Drive/Career Work/SERIUS/Pill Images V2/Test Set'\n",
        "medication_array=['Pill1','Pill2','Pill3','Pill4','Pill5','Pill6']\n",
        "colour_array=['Red','Orange','White','Black','Dark Red','Blue']\n",
        "shape=['Circular','Elliptical']\n",
        "IMG_SIZE=150\n"
      ],
      "execution_count": 0,
      "outputs": []
    },
    {
      "cell_type": "code",
      "metadata": {
        "id": "bS9deh33AFrc",
        "colab_type": "code",
        "colab": {}
      },
      "source": [
        "def process_image(img_array,IMG_SIZE): \n",
        "  crop_img = img_array[250:750, 700:1200] #first crop the image\n",
        "  \n",
        "  #next find the contours of the image\n",
        "  new_array=cv2.resize(crop_img,(IMG_SIZE,IMG_SIZE)) #resize every image before passing it in\n",
        "  hsv = cv2.cvtColor(new_array, cv2.COLOR_BGR2HSV) #convert image to hsv\n",
        "\n",
        "  ret, thresh = cv2.threshold(hsv, 127, 255, 0) #threshold our hsv\n",
        "\n",
        "  #im2, contours, hierarchy = cv2.findContours(thresh, cv2.RETR_TREE, cv2.CHAIN_APPROX_SIMPLE)\n",
        "  #cv2.drawContours(img, contours, -1, (0,255,0), 3)\n",
        "  plt.imshow(hsv,cmap='Greys_r')\n",
        "  #plt.show()    \n",
        "  return hsv"
      ],
      "execution_count": 0,
      "outputs": []
    },
    {
      "cell_type": "code",
      "metadata": {
        "colab_type": "code",
        "outputId": "9826a792-b529-4b18-9ecd-ef985067156c",
        "id": "rs79iZeMjYLa",
        "colab": {
          "base_uri": "https://localhost:8080/",
          "height": 473
        }
      },
      "source": [
        "medication_array=['Pill1','Pill2','Pill3','Pill4','Pill5','Pill6']\n",
        "colour_array=['Red','Orange','White','Black','Dark Red','Blue']\n",
        "shape=['Circular','Elliptical']\n",
        "\n",
        "class dataset:\n",
        "  #in python, don't define any variables here, another it doesn't not belong to the object itself and will get mutated everything another class is called\n",
        "  \n",
        "  def __init__(self,path):\n",
        "    self.PATH=path\n",
        "    self.x=[]\n",
        "    self.y=[]\n",
        "    self.shapes=[]\n",
        "    self.colours=[]\n",
        "    self.data=[] #entire dataset\n",
        "    \n",
        "    \n",
        "  def create_data(self):\n",
        "    for pill in medication_array:\n",
        "      #local variables\n",
        "      print(pill)\n",
        "      my_path=os.path.join(self.PATH,pill)\n",
        "      classnum=medication_array.index(pill) #indexed from 0 to 5 (will add one when showing results)\n",
        "      pill_shape=shape[1]\n",
        "      \n",
        "      if classnum==0 or classnum==1 or classnum==3:\n",
        "        pill_shape=shape[0]\n",
        "        \n",
        "      for image in os.listdir(my_path):\n",
        "        try:\n",
        "          img_array=cv2.imread(os.path.join(my_path,image))\n",
        "          new_array=process_image(img_array,IMG_SIZE)\n",
        "          self.data.append([new_array,classnum,pill_shape,colour_array[classnum]])\n",
        "        except Exception as e:\n",
        "          print('f')\n",
        "          pass\n",
        "    random.shuffle(self.data)\n",
        "    \n",
        "  def structure_data(self):\n",
        "    for image, label, pill_shape, colour in self.data:\n",
        "      self.x.append(image)\n",
        "      self.y.append(label)\n",
        "      self.shapes.append(pill_shape)\n",
        "      self.colours.append(colour)\n",
        "    self.x=np.array(self.x).reshape(-1,IMG_SIZE,IMG_SIZE,3)\n",
        "          \n",
        "\n",
        "training=dataset(DATA_PATH_TRAIN)\n",
        "training.create_data()\n",
        "training.structure_data()\n",
        "\n",
        "testing=dataset(DATA_PATH_TEST)\n",
        "testing.create_data()\n",
        "testing.structure_data()\n"
      ],
      "execution_count": 0,
      "outputs": [
        {
          "output_type": "stream",
          "text": [
            "Pill1\n",
            "Pill2\n",
            "Pill3\n",
            "Pill4\n",
            "Pill5\n",
            "Pill6\n",
            "Pill1\n",
            "Pill2\n",
            "Pill3\n",
            "Pill4\n",
            "Pill5\n",
            "Pill6\n"
          ],
          "name": "stdout"
        },
        {
          "output_type": "display_data",
          "data": {
            "image/png": "[encoded data removed]",
            "text/plain": [
              "<Figure size 432x288 with 1 Axes>"
            ]
          },
          "metadata": {
            "tags": []
          }
        }
      ]
    },
    {
      "cell_type": "code",
      "metadata": {
        "id": "RGS72fc5Usea",
        "colab_type": "code",
        "colab": {}
      },
      "source": [
        "checkpoint_path = \"training_1/cp.ckpt\"\n",
        "checkpoint_dir = os.path.dirname(checkpoint_path)\n",
        "\n",
        "cp_callback = tf.keras.callbacks.ModelCheckpoint(checkpoint_path, \n",
        "                                                 save_weights_only=True,\n",
        "                                                 verbose=1)"
      ],
      "execution_count": 0,
      "outputs": []
    },
    {
      "cell_type": "code",
      "metadata": {
        "id": "7qqHhDwgIqgY",
        "colab_type": "code",
        "colab": {}
      },
      "source": [
        "def show_RBG(image_in):\n",
        "  bgrimg = cv2.cvtColor(image_in, cv2.COLOR_HSV2BGR)\n",
        "  image = cv2.cvtColor(bgrimg, cv2.COLOR_BGR2RGB)\n",
        "  pixels = np.array(image)\n",
        "  plt.imshow(pixels)\n",
        "  plt.show()"
      ],
      "execution_count": 0,
      "outputs": []
    },
    {
      "cell_type": "code",
      "metadata": {
        "id": "2jObtCQDEjLL",
        "colab_type": "code",
        "colab": {}
      },
      "source": [
        "pickle_out=open('train_x.pickle','wb')\n",
        "pickle.dump(training.x,pickle_out)\n",
        "pickle_out.close();\n",
        "\n",
        "pickle_out=open('train_y.pickle','wb')\n",
        "pickle.dump(training.y,pickle_out)\n",
        "pickle_out.close();\n",
        "\n",
        "pickle_out=open('test_x.pickle','wb')\n",
        "pickle.dump(testing.x,pickle_out)\n",
        "pickle_out.close();\n",
        "\n",
        "pickle_out=open('test_y.pickle','wb')\n",
        "pickle.dump(testing.y,pickle_out)\n",
        "pickle_out.close();\n"
      ],
      "execution_count": 0,
      "outputs": []
    },
    {
      "cell_type": "code",
      "metadata": {
        "id": "Up9ZJBG8M80o",
        "colab_type": "code",
        "outputId": "3f37cc4e-4367-4f7b-a704-774c90179a0c",
        "colab": {
          "base_uri": "https://localhost:8080/",
          "height": 52
        }
      },
      "source": [
        "test_x=[]\n",
        "train_x=[]\n",
        "test_y=[]\n",
        "train_y=[]\n",
        "\n",
        "pickle_in=open('test_x.pickle','rb')\n",
        "test_x=pickle.load(pickle_in)\n",
        "\n",
        "pickle_in=open('test_y.pickle','rb')\n",
        "test_y=pickle.load(pickle_in)\n",
        "\n",
        "\n",
        "pickle_in=open('train_x.pickle','rb')\n",
        "train_x=pickle.load(pickle_in)\n",
        "\n",
        "pickle_in=open('train_y.pickle','rb')\n",
        "train_y=pickle.load(pickle_in)\n",
        "print(len(test_y))\n",
        "print(test_x.shape)\n",
        "test_x=test_x/255.0\n",
        "train_x=train_x/255.0\n"
      ],
      "execution_count": 45,
      "outputs": [
        {
          "output_type": "stream",
          "text": [
            "242\n",
            "(242, 150, 150, 3)\n"
          ],
          "name": "stdout"
        }
      ]
    },
    {
      "cell_type": "code",
      "metadata": {
        "id": "y2gSrOOVFN_R",
        "colab_type": "code",
        "outputId": "d1ff666d-2245-4fd5-bf1d-794f8445937e",
        "colab": {
          "base_uri": "https://localhost:8080/",
          "height": 469
        }
      },
      "source": [
        "def createModel():\n",
        "    model = tf.keras.models.Sequential([\n",
        "        tf.keras.layers.Conv2D(16,(3,3),activation='relu',input_shape=train_x.shape[1:]),\n",
        "        #input shape is IMG_SIZExIMG_SIZEx3bytes coloured (HSV))\n",
        "        tf.keras.layers.MaxPooling2D(2,2),\n",
        "        tf.keras.layers.Conv2D(32,(3,3),activation='relu'),\n",
        "        tf.keras.layers.MaxPooling2D(2,2),\n",
        "        tf.keras.layers.Conv2D(64,(3,3),activation='relu'),\n",
        "        tf.keras.layers.MaxPooling2D(2,2),\n",
        "        tf.keras.layers.Flatten(), #flattens the dataset for our input layer\n",
        "        tf.keras.layers.Dense(512,activation=tf.nn.relu),\n",
        "        tf.keras.layers.Dense(6,activation='softmax') #sigmoid for final layer\n",
        "    ])\n",
        "    model.compile(optimizer='adam',\n",
        "              loss='sparse_categorical_crossentropy',\n",
        "              metrics=['accuracy'])\n",
        "    return model\n",
        "model=createModel()\n",
        "model.summary()"
      ],
      "execution_count": 46,
      "outputs": [
        {
          "output_type": "stream",
          "text": [
            "Model: \"sequential_10\"\n",
            "_________________________________________________________________\n",
            "Layer (type)                 Output Shape              Param #   \n",
            "=================================================================\n",
            "conv2d_30 (Conv2D)           (None, 148, 148, 16)      448       \n",
            "_________________________________________________________________\n",
            "max_pooling2d_30 (MaxPooling (None, 74, 74, 16)        0         \n",
            "_________________________________________________________________\n",
            "conv2d_31 (Conv2D)           (None, 72, 72, 32)        4640      \n",
            "_________________________________________________________________\n",
            "max_pooling2d_31 (MaxPooling (None, 36, 36, 32)        0         \n",
            "_________________________________________________________________\n",
            "conv2d_32 (Conv2D)           (None, 34, 34, 64)        18496     \n",
            "_________________________________________________________________\n",
            "max_pooling2d_32 (MaxPooling (None, 17, 17, 64)        0         \n",
            "_________________________________________________________________\n",
            "flatten_10 (Flatten)         (None, 18496)             0         \n",
            "_________________________________________________________________\n",
            "dense_20 (Dense)             (None, 512)               9470464   \n",
            "_________________________________________________________________\n",
            "dense_21 (Dense)             (None, 6)                 3078      \n",
            "=================================================================\n",
            "Total params: 9,497,126\n",
            "Trainable params: 9,497,126\n",
            "Non-trainable params: 0\n",
            "_________________________________________________________________\n"
          ],
          "name": "stdout"
        }
      ]
    },
    {
      "cell_type": "markdown",
      "metadata": {
        "id": "6ovZrHUoG2ag",
        "colab_type": "text"
      },
      "source": [
        "\n"
      ]
    },
    {
      "cell_type": "code",
      "metadata": {
        "id": "bgSMK52PHn0U",
        "colab_type": "code",
        "outputId": "7c021d94-122e-45e9-ce74-051d300dd5d8",
        "colab": {
          "base_uri": "https://localhost:8080/",
          "height": 399
        }
      },
      "source": [
        "\n",
        "model.fit(train_x,train_y, validation_split=0.2, epochs=5, batch_size=30, callbacks = [cp_callback])"
      ],
      "execution_count": 47,
      "outputs": [
        {
          "output_type": "stream",
          "text": [
            "Train on 767 samples, validate on 192 samples\n",
            "Epoch 1/5\n",
            "750/767 [============================>.] - ETA: 0s - loss: 1.3453 - accuracy: 0.4973\n",
            "Epoch 00001: saving model to training_1/cp.ckpt\n",
            "767/767 [==============================] - 1s 2ms/sample - loss: 1.3214 - accuracy: 0.5072 - val_loss: 0.3047 - val_accuracy: 0.9427\n",
            "Epoch 2/5\n",
            "720/767 [===========================>..] - ETA: 0s - loss: 0.1957 - accuracy: 0.9556\n",
            "Epoch 00002: saving model to training_1/cp.ckpt\n",
            "767/767 [==============================] - 1s 1ms/sample - loss: 0.1903 - accuracy: 0.9570 - val_loss: 0.0710 - val_accuracy: 0.9844\n",
            "Epoch 3/5\n",
            "750/767 [============================>.] - ETA: 0s - loss: 0.0254 - accuracy: 0.9973\n",
            "Epoch 00003: saving model to training_1/cp.ckpt\n",
            "767/767 [==============================] - 1s 1ms/sample - loss: 0.0253 - accuracy: 0.9974 - val_loss: 0.0355 - val_accuracy: 0.9948\n",
            "Epoch 4/5\n",
            "750/767 [============================>.] - ETA: 0s - loss: 0.0032 - accuracy: 1.0000\n",
            "Epoch 00004: saving model to training_1/cp.ckpt\n",
            "767/767 [==============================] - 1s 1ms/sample - loss: 0.0032 - accuracy: 1.0000 - val_loss: 0.0012 - val_accuracy: 1.0000\n",
            "Epoch 5/5\n",
            "720/767 [===========================>..] - ETA: 0s - loss: 4.7766e-04 - accuracy: 1.0000\n",
            "Epoch 00005: saving model to training_1/cp.ckpt\n",
            "767/767 [==============================] - 1s 2ms/sample - loss: 4.5718e-04 - accuracy: 1.0000 - val_loss: 7.7995e-04 - val_accuracy: 1.0000\n"
          ],
          "name": "stdout"
        },
        {
          "output_type": "execute_result",
          "data": {
            "text/plain": [
              "<tensorflow.python.keras.callbacks.History at 0x7f22b8340748>"
            ]
          },
          "metadata": {
            "tags": []
          },
          "execution_count": 47
        }
      ]
    },
    {
      "cell_type": "code",
      "metadata": {
        "id": "DNruJ4cIA8Qw",
        "colab_type": "code",
        "outputId": "d12abbd6-20f3-428a-9b9c-ccb3393f118c",
        "colab": {
          "base_uri": "https://localhost:8080/",
          "height": 69
        }
      },
      "source": [
        "\n",
        "newModel=createModel()\n",
        "newModel.evaluate(test_x,test_y)\n",
        "newModel.load_weights(checkpoint_path)\n",
        "newModel.evaluate(test_x,test_y)"
      ],
      "execution_count": 48,
      "outputs": [
        {
          "output_type": "stream",
          "text": [
            "242/242 [==============================] - 0s 717us/sample - loss: 1.7967 - accuracy: 0.1570\n",
            "242/242 [==============================] - 0s 517us/sample - loss: 0.0017 - accuracy: 1.0000\n"
          ],
          "name": "stdout"
        },
        {
          "output_type": "execute_result",
          "data": {
            "text/plain": [
              "[0.0017480696472728986, 1.0]"
            ]
          },
          "metadata": {
            "tags": []
          },
          "execution_count": 48
        }
      ]
    },
    {
      "cell_type": "code",
      "metadata": {
        "id": "gM4a4DB_QUjX",
        "colab_type": "code",
        "outputId": "d977a800-dd2b-422a-99cd-c71b9b508946",
        "colab": {
          "base_uri": "https://localhost:8080/",
          "height": 34
        }
      },
      "source": [
        "ypr = model.predict(test_x)\n",
        "model.evaluate(test_x,test_y)\n",
        "model.save('Pill Predictor V5')"
      ],
      "execution_count": 54,
      "outputs": [
        {
          "output_type": "stream",
          "text": [
            "242/242 [==============================] - 0s 531us/sample - loss: 0.0017 - accuracy: 1.0000\n"
          ],
          "name": "stdout"
        }
      ]
    },
    {
      "cell_type": "code",
      "metadata": {
        "id": "5Txk0unKQwLb",
        "colab_type": "code",
        "colab": {}
      },
      "source": [
        "def prepare(filepath):\n",
        "    IMG_SIZE=150\n",
        "    img_array=cv2.imread(filepath)\n",
        "    new_array=process_image(img_array)\n",
        "    return new_array.reshape(-1,IMG_SIZE,IMG_SIZE,1) "
      ],
      "execution_count": 0,
      "outputs": []
    },
    {
      "cell_type": "code",
      "metadata": {
        "id": "3uzDE2wnS_my",
        "colab_type": "code",
        "colab": {}
      },
      "source": [
        "from sklearn.metrics import confusion_matrix"
      ],
      "execution_count": 0,
      "outputs": []
    },
    {
      "cell_type": "code",
      "metadata": {
        "id": "9MQxwlOxTKtU",
        "colab_type": "code",
        "colab": {}
      },
      "source": [
        "yprr = np.argmax(ypr, axis=1)"
      ],
      "execution_count": 0,
      "outputs": []
    },
    {
      "cell_type": "code",
      "metadata": {
        "id": "A7C2UgrqTOS1",
        "colab_type": "code",
        "outputId": "f10d3ce9-19e1-4678-daed-632ff2ac3737",
        "colab": {
          "base_uri": "https://localhost:8080/",
          "height": 121
        }
      },
      "source": [
        "confusion_matrix(test_y, yprr)"
      ],
      "execution_count": 53,
      "outputs": [
        {
          "output_type": "execute_result",
          "data": {
            "text/plain": [
              "array([[40,  0,  0,  0,  0,  0],\n",
              "       [ 0, 41,  0,  0,  0,  0],\n",
              "       [ 0,  0, 41,  0,  0,  0],\n",
              "       [ 0,  0,  0, 38,  0,  0],\n",
              "       [ 0,  0,  0,  0, 41,  0],\n",
              "       [ 0,  0,  0,  0,  0, 41]])"
            ]
          },
          "metadata": {
            "tags": []
          },
          "execution_count": 53
        }
      ]
    },
    {
      "cell_type": "markdown",
      "metadata": {
        "id": "fItoJtDWTXaj",
        "colab_type": "text"
      },
      "source": [
        ""
      ]
    }
  ]
}